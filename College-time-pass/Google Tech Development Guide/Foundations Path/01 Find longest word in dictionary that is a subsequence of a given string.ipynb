{
 "cells": [
  {
   "cell_type": "markdown",
   "metadata": {},
   "source": [
    "# The Challenge\n",
    "\n",
    "Given a string S and a set of words D, find the longest word in D that is a subsequence of S.\n",
    "\n",
    "Word W is a subsequence of S if some number of characters, possibly zero, can be deleted from S to form W, without reordering the remaining characters.\n",
    "\n",
    "Note: D can appear in any format list, hash table, prefix tree, etc.\n",
    "\n",
    "For example, given the input of S = \"abppplee\" and D = {\"able\", \"ale\", \"apple\", \"bale\", \"kangaroo\"} the correct output would be \"apple\"\n",
    "\n",
    "- The words \"able\" and \"ale\" are both subsequences of S, but they are shorter than \"apple\".\n",
    "- The word \"bale\" is not a subsequence of S because even though S has all the right letters, they are not in the right order.\n",
    "- The word \"kangaroo\" is the longest word in D, but it isn't a subsequence of S."
   ]
  },
  {
   "cell_type": "code",
   "execution_count": null,
   "metadata": {
    "collapsed": true
   },
   "outputs": [],
   "source": []
  }
 ],
 "metadata": {
  "kernelspec": {
   "display_name": "Python 2",
   "language": "python",
   "name": "python2"
  },
  "language_info": {
   "codemirror_mode": {
    "name": "ipython",
    "version": 2
   },
   "file_extension": ".py",
   "mimetype": "text/x-python",
   "name": "python",
   "nbconvert_exporter": "python",
   "pygments_lexer": "ipython2",
   "version": "2.7.13"
  }
 },
 "nbformat": 4,
 "nbformat_minor": 2
}
